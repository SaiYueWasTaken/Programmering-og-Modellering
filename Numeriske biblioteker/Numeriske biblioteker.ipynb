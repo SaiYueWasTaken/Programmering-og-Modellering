{
 "cells": [
  {
   "cell_type": "markdown",
   "metadata": {},
   "source": [
    "## Numeriske biblioteker\n"
   ]
  },
  {
   "cell_type": "code",
   "execution_count": 1,
   "metadata": {},
   "outputs": [],
   "source": [
    "from numpy import linspace\n",
    "\n",
    "a = linspace(0,1,100)\n",
    "\n",
    "import numpy as np\n",
    "\n",
    "a = np.linspace(0,10,1000)\n"
   ]
  },
  {
   "cell_type": "code",
   "execution_count": 4,
   "metadata": {},
   "outputs": [
    {
     "name": "stdout",
     "output_type": "stream",
     "text": [
      "      converged: True\n",
      "           flag: 'converged'\n",
      " function_calls: 44\n",
      "     iterations: 42\n",
      "           root: 1.9999999999993179\n",
      "--------------\n",
      "      converged: True\n",
      "           flag: 'converged'\n",
      " function_calls: 14\n",
      "     iterations: 7\n",
      "           root: 2.0\n"
     ]
    }
   ],
   "source": [
    "# Likninger\n",
    "\n",
    "from scipy.optimize import root_scalar\n",
    "\n",
    "def f(x):\n",
    "    return x**2 - 4\n",
    "\n",
    "def fder(x):\n",
    "    return 2*x\n",
    "\n",
    "# Halveringsmetoden\n",
    "nullpunkt_halvering = root_scalar(f,method=\"bisect\", bracket=[0,5])\n",
    "print(nullpunkt_halvering)\n",
    "\n",
    "# Newtons metode\n",
    "nullpunkt_newton = root_scalar(f,method=\"newton\", fprime=fder,x0=10)\n",
    "print(\"--------------\")\n",
    "print(nullpunkt_newton)"
   ]
  },
  {
   "cell_type": "code",
   "execution_count": 8,
   "metadata": {},
   "outputs": [
    {
     "name": "stdout",
     "output_type": "stream",
     "text": [
      "2.0\n"
     ]
    }
   ],
   "source": [
    "# Derivasjon\n",
    "\n",
    "from scipy.misc import derivative\n",
    "import numpy as np\n",
    "\n",
    "x = np.linspace(0,5,100)\n",
    "y = f(x)\n",
    "\n",
    "derivert = derivative(f,1)\n",
    "print(derivert)"
   ]
  },
  {
   "cell_type": "code",
   "execution_count": 10,
   "metadata": {},
   "outputs": [
    {
     "name": "stdout",
     "output_type": "stream",
     "text": [
      "-5.333331997329328\n",
      "-5.333333331995993\n"
     ]
    }
   ],
   "source": [
    "# Integrasjon\n",
    "\n",
    "from scipy import integrate\n",
    "\n",
    "x = np.linspace(0,2,1000)\n",
    "y = f(x)\n",
    "\n",
    "# Trapesmetoden\n",
    "trapes = integrate.trapz(y,x)\n",
    "print(trapes)\n",
    "\n",
    "# Simpsonsmetode\n",
    "simpsons = integrate.simps(y,x)\n",
    "print(simpsons)"
   ]
  },
  {
   "cell_type": "code",
   "execution_count": null,
   "metadata": {},
   "outputs": [],
   "source": []
  }
 ],
 "metadata": {
  "kernelspec": {
   "display_name": "Python 3",
   "language": "python",
   "name": "python3"
  },
  "language_info": {
   "codemirror_mode": {
    "name": "ipython",
    "version": 3
   },
   "file_extension": ".py",
   "mimetype": "text/x-python",
   "name": "python",
   "nbconvert_exporter": "python",
   "pygments_lexer": "ipython3",
   "version": "3.8.3"
  }
 },
 "nbformat": 4,
 "nbformat_minor": 4
}
