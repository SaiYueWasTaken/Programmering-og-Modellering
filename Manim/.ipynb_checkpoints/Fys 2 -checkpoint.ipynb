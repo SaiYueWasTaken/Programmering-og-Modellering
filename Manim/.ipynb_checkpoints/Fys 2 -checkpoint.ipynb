{
 "cells": [
  {
   "cell_type": "markdown",
   "metadata": {},
   "source": [
    "# Fysikk 2; Bevegelsesmengde, Newtons lover og Friksjon"
   ]
  },
  {
   "cell_type": "code",
   "execution_count": 62,
   "metadata": {},
   "outputs": [],
   "source": [
    "import jupyter_manim\n",
    "from manimlib.imports import *\n"
   ]
  },
  {
   "cell_type": "code",
   "execution_count": 63,
   "metadata": {},
   "outputs": [
    {
     "data": {
      "text/html": [
       "\n",
       "    <video\n",
       "      width=\"854\"\n",
       "      height=\"480\"\n",
       "      autoplay=\"autoplay\"\n",
       "      controls\n",
       "    >\n",
       "        <source src=\"media\\videos\\tmp24slxbm0\\720p30\\MainScene.mp4\" type=\"video/mp4\">\n",
       "    </video>\n",
       "    "
      ],
      "text/plain": [
       "<IPython.core.display.HTML object>"
      ]
     },
     "execution_count": 63,
     "metadata": {},
     "output_type": "execute_result"
    }
   ],
   "source": [
    "%%manim MainScene --medium_quality\n",
    "\n",
    "class MainScene(Scene):\n",
    "    def construct(self):\n",
    "        circle = Circle(color=\"Blue\")\n",
    "        self.play(ShowCreation(circle))"
   ]
  },
  {
   "cell_type": "code",
   "execution_count": 52,
   "metadata": {},
   "outputs": [
    {
     "data": {
      "text/html": [
       "\n",
       "    <video\n",
       "      width=\"854\"\n",
       "      height=\"480\"\n",
       "      autoplay=\"autoplay\"\n",
       "      controls\n",
       "    >\n",
       "        <source src=\"media\\videos\\tmpy8l8wiub\\720p30\\PointMovingOnShapes.mp4\" type=\"video/mp4\">\n",
       "    </video>\n",
       "    "
      ],
      "text/plain": [
       "<IPython.core.display.HTML object>"
      ]
     },
     "execution_count": 52,
     "metadata": {},
     "output_type": "execute_result"
    }
   ],
   "source": [
    "%%manim PointMovingOnShapes --medium_quality\n",
    "\n",
    "class PointMovingOnShapes(Scene):\n",
    "    def construct(self):\n",
    "        circle = Circle(radius=1, color=BLUE)\n",
    "        dot = Dot()\n",
    "        dot2 = dot.copy().shift(RIGHT)\n",
    "        self.add(dot)\n",
    "\n",
    "        line = Line([3, 0, 0], [5, 0, 0])\n",
    "        self.add(line)\n",
    "\n",
    "        self.play(GrowFromCenter(circle))\n",
    "        self.play(Transform(dot, dot2))\n",
    "        self.play(MoveAlongPath(dot, circle), run_time=2, rate_func=linear)\n",
    "        self.play(Rotating(dot, about_point=[2, 0, 0]), run_time=1.5)\n",
    "        self.wait()"
   ]
  },
  {
   "cell_type": "code",
   "execution_count": 65,
   "metadata": {},
   "outputs": [
    {
     "name": "stdout",
     "output_type": "stream",
     "text": [
      "Media will be written to C:\\Users\\Simon Sandvik Lee\\Documents\\GitHub\\Programmering-og-modellering\\Manim\\media\\. You can change this behavior with the --media_dir flag.\n",
      "No animations in this scene\n",
      "Played 0 animations\n",
      "\n"
     ]
    },
    {
     "name": "stderr",
     "output_type": "stream",
     "text": [
      "C:\\Users\\SIMONS~1\\AppData\\Local\\Temp\\tmpm1uk7xwh.py:58: UserWarning: Import from notebook: warn already in the globals(), skipping\n",
      "  warn('Import from notebook: ' + name + ' already in the globals(), skipping')\n",
      "C:\\Users\\SIMONS~1\\AppData\\Local\\Temp\\tmpm1uk7xwh.py:58: UserWarning: Import from notebook: name already in the globals(), skipping\n",
      "  warn('Import from notebook: ' + name + ' already in the globals(), skipping')\n",
      "\n",
      "   PointWithTrace is not in the script\n",
      "\n",
      "\n"
     ]
    }
   ],
   "source": [
    "%%manim PointWithTrace --low_quality\n",
    "\n",
    "class Shapes(Scene):\n",
    "    def construct(self):\n",
    "        circle = Circle()"
   ]
  },
  {
   "cell_type": "code",
   "execution_count": 12,
   "metadata": {},
   "outputs": [],
   "source": []
  },
  {
   "cell_type": "code",
   "execution_count": null,
   "metadata": {},
   "outputs": [],
   "source": []
  }
 ],
 "metadata": {
  "kernelspec": {
   "display_name": "Python 3",
   "language": "python",
   "name": "python3"
  },
  "language_info": {
   "codemirror_mode": {
    "name": "ipython",
    "version": 3
   },
   "file_extension": ".py",
   "mimetype": "text/x-python",
   "name": "python",
   "nbconvert_exporter": "python",
   "pygments_lexer": "ipython3",
   "version": "3.8.3"
  }
 },
 "nbformat": 4,
 "nbformat_minor": 4
}
