{
 "cells": [
  {
   "cell_type": "markdown",
   "metadata": {},
   "source": [
    "## Modelleringsoppgave: Kinematikk (fysikk) "
   ]
  },
  {
   "cell_type": "markdown",
   "metadata": {},
   "source": [
    "### Del 1) \n",
    "### a) "
   ]
  },
  {
   "cell_type": "markdown",
   "metadata": {},
   "source": [
    "Siden Newtons gravitasjonslov kan beskrives som:\n",
    "\n",
    "### $$ G = k_{G}\\frac{m_{1}m_{2}}{r^2} $$\n",
    "\n",
    "Kan vi utlede formelen\n",
    "\n",
    "### $$ G = mg $$\n",
    "\n",
    "Dette kan vi gjøre fordi vi kan vise at massen kan skrives som; $ m_{1} $ kan skrives som $ m $ og $ k_{G} $ delt på $ r^2 $ ganget med $ m_2 $ kan skrives som $ 9.81 $. Grunnen til at vi setter $ m_1 $ som vår \"grunnmasse\" er at det er en gjenstand sin masse, mens $ m_2 $ er jorda sin masse. Dette er et forhold mellom massen til legmet og massen til jorda. Vi kan derfor finne en generell konstant $ g $ som alltid kommer til å være lik når vi regner med noe som er på jorda. Det er derfor vi kan skrive formelen: $ G = mg $"
   ]
  },
  {
   "cell_type": "markdown",
   "metadata": {},
   "source": [
    "## b)"
   ]
  },
  {
   "cell_type": "code",
   "execution_count": 1,
   "metadata": {},
   "outputs": [
    {
     "name": "stdout",
     "output_type": "stream",
     "text": [
      "Kula falt 44.1146999999991 meter.\n",
      "Analytisk verdi til sammenlikning: 44.1\n"
     ]
    }
   ],
   "source": [
    "from pylab import *\n",
    "\n",
    "g = 9.8  # Tyngdeakselerasjon i m/s^2\n",
    "a = g    # Akselerasjon\n",
    "v = 0    # Starthastighet\n",
    "s = 0    # Startposisjon\n",
    "\n",
    "tid = 3    # Sluttid i sekunder\n",
    "dt = 0.001 # Tidssteg\n",
    "t = 0      # Tid\n",
    "\n",
    "while t < tid:\n",
    "    s = s + v*dt\n",
    "    v = v + a*dt\n",
    "    t = t + dt \n",
    "    \n",
    "\n",
    "print(\"Kula falt\", s, \"meter.\")\n",
    "print(\"Analytisk verdi til sammenlikning:\",  0.5*a*tid**2)\n",
    "\n"
   ]
  },
  {
   "cell_type": "markdown",
   "metadata": {},
   "source": [
    "## c) "
   ]
  },
  {
   "cell_type": "markdown",
   "metadata": {},
   "source": [
    "Denne modellen tar i bruk Eulers metode til å vise fartsformelen i fysikk. Vi har tatt en forutsetning om at vi ser på endringer som er veldig veldig små, slik at vi kan si at farten mellom tidssteg er konstant. Vi regner derfor ut posisjon ved hjelp av Eulers metode, som igjen kommer av at vi bruker eulers metode for å finne farten, som igjen er gitt ved en gitt gravitasjonsakselerasjon g. "
   ]
  },
  {
   "cell_type": "markdown",
   "metadata": {},
   "source": [
    "## d)"
   ]
  },
  {
   "cell_type": "code",
   "execution_count": 5,
   "metadata": {},
   "outputs": [
    {
     "data": {
      "image/png": "[encoded data removed]",
      "text/plain": [
       "<Figure size 432x288 with 1 Axes>"
      ]
     },
     "metadata": {
      "needs_background": "light"
     },
     "output_type": "display_data"
    }
   ],
   "source": [
    "from pylab import *\n",
    "\n",
    "g = 9.8  # Tyngdeakselerasjon i m/s^2\n",
    "a = g    # Akselerasjon\n",
    "v = 0    # Starthastighet\n",
    "s = 0    # Startposisjon\n",
    "\n",
    "tid = 3    # Sluttid i sekunder\n",
    "dt = 0.001 # Tidssteg\n",
    "t = 0      # Tid\n",
    "\n",
    "pos = []\n",
    "time = []\n",
    "\n",
    "\n",
    "while t < tid:\n",
    "    s = s + v*dt\n",
    "    v = v + a*dt\n",
    "    t = t + dt \n",
    "    pos.append(s)\n",
    "    time.append(t)\n",
    "    \n",
    "plot(time,pos)\n",
    "grid()\n",
    "show()\n",
    "\n"
   ]
  },
  {
   "cell_type": "markdown",
   "metadata": {},
   "source": [
    "## e) "
   ]
  },
  {
   "cell_type": "markdown",
   "metadata": {},
   "source": [
    "Parameteren $ k $ kan man enkelt se på en konstant som viser hvor mye et legme motstår luften feks. Dette er en konstant som er forskjellig utifra hvilken flate og hva vi snakker om. I formelen $ L = kv^2 $ ser vi at konstanten er ganget med farten kvadrert. Det er ingen spesifikk grunn til at farten skal kvadreres, den kan også enkelt være bare v, men modellen endres etter hva som trengs. Derfor kan man skrive formelen slik."
   ]
  },
  {
   "cell_type": "markdown",
   "metadata": {},
   "source": [
    "## f)"
   ]
  },
  {
   "cell_type": "code",
   "execution_count": 18,
   "metadata": {},
   "outputs": [
    {
     "name": "stdout",
     "output_type": "stream",
     "text": [
      "Kula falt med farten 29.23805294894908 m/s.\n"
     ]
    }
   ],
   "source": [
    "from pylab import *\n",
    "\n",
    "g = 9.8  # Tyngdeakselerasjon i m/s^2\n",
    "a = g    # Akselerasjon\n",
    "v = 0 # Starthastighet\n",
    "s = 0    # Startposisjon\n",
    "k = 0.1  # Luftmotstandskonstant\n",
    "m = 1  #masse kg \n",
    "\n",
    "tid = 3    # Sluttid i sekunder\n",
    "dt = 0.001 # Tidssteg\n",
    "t = 0      # Tid\n",
    "\n",
    "pos = []\n",
    "velocity = []\n",
    "time = []\n",
    "\n",
    "\n",
    "while t < tid:\n",
    "    s = s + v*dt\n",
    "    v = v + a*dt\n",
    "    a = g - (k*v**2)*dt\n",
    "    t = t + dt \n",
    "    \n",
    "\n"
   ]
  },
  {
   "cell_type": "code",
   "execution_count": null,
   "metadata": {},
   "outputs": [],
   "source": []
  }
 ],
 "metadata": {
  "kernelspec": {
   "display_name": "Python 3",
   "language": "python",
   "name": "python3"
  },
  "language_info": {
   "codemirror_mode": {
    "name": "ipython",
    "version": 3
   },
   "file_extension": ".py",
   "mimetype": "text/x-python",
   "name": "python",
   "nbconvert_exporter": "python",
   "pygments_lexer": "ipython3",
   "version": "3.8.3"
  }
 },
 "nbformat": 4,
 "nbformat_minor": 4
}
