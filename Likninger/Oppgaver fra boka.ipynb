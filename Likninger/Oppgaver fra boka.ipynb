{
 "cells": [
  {
   "cell_type": "markdown",
   "metadata": {},
   "source": [
    "# Liknings Oppgaver"
   ]
  },
  {
   "cell_type": "code",
   "execution_count": 11,
   "metadata": {},
   "outputs": [
    {
     "name": "stdout",
     "output_type": "stream",
     "text": [
      "-0.5000019073486328\n"
     ]
    }
   ],
   "source": [
    "# Oppgave 9.2)\n",
    "\n",
    "a = -10 \n",
    "b = 5\n",
    "tol = 1E-5\n",
    "m = (a + b)/2\n",
    "\n",
    "\n",
    "def f(x):\n",
    "    return 2*x + 1 \n",
    "\n",
    "while abs(f(m)) > tol:\n",
    "    if f(m)*f(b) < 0:\n",
    "        a = m\n",
    "    elif f(m)*f(a) < 0:\n",
    "        b = m \n",
    "    m = (a + b)/2\n",
    "    \n",
    "print(m)\n",
    "\n",
    "\n"
   ]
  },
  {
   "cell_type": "code",
   "execution_count": 15,
   "metadata": {},
   "outputs": [
    {
     "name": "stdout",
     "output_type": "stream",
     "text": [
      "-0.5\n"
     ]
    }
   ],
   "source": [
    "# Oppgave 9.5)\n",
    "\n",
    "x = 5\n",
    "tol = 1e-5\n",
    "\n",
    "def f(x):\n",
    "    return 2*x + 1 \n",
    "    \n",
    "def fder():\n",
    "    return 2 \n",
    "\n",
    "while abs(f(x)) > tol:\n",
    "    x = x - f(x)/fder()\n",
    "    \n",
    "print(x)\n",
    "\n",
    "\n"
   ]
  },
  {
   "cell_type": "code",
   "execution_count": 34,
   "metadata": {},
   "outputs": [
    {
     "name": "stdout",
     "output_type": "stream",
     "text": [
      "-21.821090426549695\n"
     ]
    }
   ],
   "source": [
    "# Oppgave 9.11)\n",
    "\n",
    "# a) Følgende likning må løses, fordi N(t) = 4000, og 2300 - 4000 = -1700. \n",
    "\n",
    "# b) Gjort på ark\n",
    "\n",
    "# c)\n",
    "from pylab import *\n",
    "\n",
    "t = 20\n",
    "tol = 1E-6\n",
    "\n",
    "def N(t):\n",
    "    return -1700 + 10*t**2 * e**(0.0472*t)\n",
    "    \n",
    "def Nder(t):\n",
    "    return 20*t*e**(-0.0472*t) - 0.0472*t**2 * e**(-0.0472*t)\n",
    "    \n",
    "while abs(N(t)) > tol:\n",
    "    t = t - N(t)/Nder(t)\n",
    "\n",
    "print(t)\n",
    "\n",
    "# d) Programmene gir forskjellige svar fordi de har forskjellige startspunkt. "
   ]
  },
  {
   "cell_type": "code",
   "execution_count": 47,
   "metadata": {},
   "outputs": [
    {
     "name": "stdout",
     "output_type": "stream",
     "text": [
      "(1.9999990463256836, 19) iterasjoner\n"
     ]
    }
   ],
   "source": [
    "# Halveringsmetoden ) \n",
    "def f(x):\n",
    "    return x**2 - 4\n",
    "\n",
    "def halveringsmetoden(f, a, b, tol=1E-5):\n",
    "    m = (a + b)/2\n",
    "    i = 0\n",
    "    while abs(f(m)) > tol and i < 30:\n",
    "        if f(m)*f(a) > 0:\n",
    "            a = m \n",
    "        elif f(m)*f(b) > 0:\n",
    "            b = m \n",
    "        else:\n",
    "            a = b = m\n",
    "        m = (a + b)/2\n",
    "        i += 1 \n",
    "    return m, i\n",
    "\n",
    "x1 = halveringsmetoden(f, 0, 7)\n",
    "print(x1, \"iterasjoner\")\n",
    "    "
   ]
  },
  {
   "cell_type": "code",
   "execution_count": 65,
   "metadata": {},
   "outputs": [
    {
     "name": "stdout",
     "output_type": "stream",
     "text": [
      "(2.000000000006711, 5)\n"
     ]
    }
   ],
   "source": [
    "# Newtons metode ) \n",
    "\n",
    "def f(x):\n",
    "    return x**2 - 4 \n",
    "\n",
    "def fder(x):\n",
    "    return 2*x\n",
    "\n",
    "def newtonsmetode(f, fder, x, iterasjoner, tol=1E-5):\n",
    "    i = 0\n",
    "    while abs(f(x)) > tol and i < iterasjoner:\n",
    "        x = x - f(x)/fder(x)\n",
    "        i += 1\n",
    "    return x, i\n",
    "\n",
    "x1 = newtonsmetode(f, fder, 5, 10)\n",
    "print(x1)"
   ]
  },
  {
   "cell_type": "code",
   "execution_count": null,
   "metadata": {},
   "outputs": [],
   "source": []
  }
 ],
 "metadata": {
  "kernelspec": {
   "display_name": "Python 3",
   "language": "python",
   "name": "python3"
  },
  "language_info": {
   "codemirror_mode": {
    "name": "ipython",
    "version": 3
   },
   "file_extension": ".py",
   "mimetype": "text/x-python",
   "name": "python",
   "nbconvert_exporter": "python",
   "pygments_lexer": "ipython3",
   "version": "3.8.3"
  }
 },
 "nbformat": 4,
 "nbformat_minor": 4
}
