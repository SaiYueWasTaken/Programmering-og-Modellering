{
 "cells": [
  {
   "cell_type": "markdown",
   "metadata": {},
   "source": [
    "# Rapport: Temperatur på jordkloden\n",
    "\n",
    "*Simon Sandvik Lee*\n",
    "\n",
    "*Rapport 17.03.2021*"
   ]
  },
  {
   "cell_type": "markdown",
   "metadata": {},
   "source": [
    "# 1. Hensikt"
   ]
  },
  {
   "cell_type": "markdown",
   "metadata": {},
   "source": [
    "Hensikten med dette prosjektet er å utforske og lage ulike modeller for å vise temperaturen på jordkloden, dette er for å få et inblikk i klimamodellering.\n"
   ]
  },
  {
   "cell_type": "markdown",
   "metadata": {},
   "source": [
    "# 2. Teori\n"
   ]
  },
  {
   "cell_type": "markdown",
   "metadata": {},
   "source": [
    "Det er mange ulike teoretiske kunnskaper man trenger for å kunne lage enkle klimamodeller. \n",
    "\n",
    "*Her oppsummerer jeg all teorien som jeg kommer til å trenge videre i oppgavene senere.*\n",
    "\n",
    "For å lage en modell som beskriver temperaturen til jordkloden trenger vi:\n",
    "\n",
    "## Stefan-Boltzmanns lov\n",
    "\n",
    "Varmestråling blir utgitt av alle *svarte legemer*. Varmestråling er elektromagnetisk stråling og fører energi til eller fra et system. Varmestrålingen ut fra en gjenstand kan man regne ut gitt areal og temperatur; Loven sier derfor: \n",
    "\n",
    "## $$ S = σT^4 $$\n",
    "\n",
    "*Utstrålt effekt per areal (utstrålingstettheten) fra en gjenstand, vokser med fjerde potens av den absolutte temperaturn til gjenstandens overflate.*\n",
    "\n",
    "## $$σ (sigma) $$\n",
    "\n",
    "\n",
    "*er Stefan-Boltzmanns konstant og er lik $5,6703·10^{-8} W/(m^2·K^4)$*\n",
    "\n",
    "## $$T (Temperatur)$$\n",
    "\n",
    "*er Temperaturen målt i Kelvin.*\n",
    "\n",
    "\n",
    "## Kalkulering av gjennomsnittlig elektromagnetisk stråling\n",
    "\n",
    "Solkonstanten er målt gjennomsnittlig elektromagnetisk stråling fra solen som treffet vertikalt på jordklodens atmosfære. \n",
    "\n",
    "*Denne strålingen som treffer jordklodens atmosfære er målt til $1361 W/m^2$.*\n",
    "\n",
    "Ved å bruke gjennomsnittlig elektromagnetisk stråling som treffer en planet og distansen mellom solen og planeten i solsystemet. \n",
    "\n",
    "## $$S = \\frac{radius^{2}_{sol}}{distanse^{2}_{sol-planet}}·varmestråling_{sol}$$\n",
    "\n",
    "*hvor $S$ er gitt ved den gjennomsnittlige strålingen som treffet planeten i $W/m^2$*.\n",
    "\n",
    "\n",
    "## Forenkling av stråling på jordkloden fra sola (Energi inn)\n",
    "\n",
    "Hvis man ser på hvordan strålingen fra sola treffer jorda, kan vi se at strålingen bare treffer en side. Dette vil si at den gjennomsnittlige strålingen som treffer egentlig bare er en sirkel. \n",
    "\n",
    "*Vi får da bruk for arealet av en sirkel gitt ved:*\n",
    "\n",
    "## $$A = {\\displaystyle \\pi}r^{2}$$\n",
    "\n",
    "*Ved dette, kan vi finne ut hvor mye stråling som treffer jorda (PS: Ikke all stråling går igjennom, og vi trenger derfor en konstant albedo)*\n",
    "\n",
    "## $$K_s · alebdo · {\\displaystyle \\pi}r^{2}_{jorda}$$\n",
    "\n",
    "*Dette er da all energi inn til jordkloden, hvor $K_s$ er solkonstanten, $albedo$ er en gitt konstant av hvor mye stråling som faktisk treffer jordoverflaten, og ${\\displaystyle \\pi}r^{2}$ er hvor mye overflate som blir truffet.*\n",
    "\n",
    "\n",
    "## Reflektert stråling fra jordkloden (Energi ut) \n",
    "\n",
    "Vi vet nå via Stefan-Boltzmanns Lov at jorden også kommer til å sende ut en stråling. Gitt ved at stråling er W/m^2 kan vi bruke Arealformelen for en kule ganget med Stefan Boltzmann til å finne et utrykk som utrykker hvor mye stråling som blir reflektert av jorda. \n",
    "\n",
    "## $$ σT^{4} · 4{\\displaystyle \\pi}r^{2}_{jorda} $$\n",
    "\n",
    "\n",
    "## Energiprinsippet\n",
    "\n",
    "Energi kan ikke forsvinne eller skapes, bare omformes fra en form til en annen. Dette vil si at energien er konstant. Planeter er lukkede systemer og vi tilfører varmestråling fra verdensrommet. Planeten sender så ut en egen varmestråling ut til verdensrommet. \n",
    "\n",
    "Vi får da tre muligheter:\n",
    "\n",
    "### 1. Planeten varmes opp over tid: $ S_{inn} > S_{ut}$ \n",
    "\n",
    "### 2. Planeten blir kaldere over tid: $ S_{inn} < S_{ut}$ \n",
    "\n",
    "### 3. Planeten har konstant temperatur:  $ S_{inn} = S_{ut}$ \n",
    "\n",
    "\n",
    "\n",
    "## Forenklet atmosfære\n",
    "\n",
    "Jordkloden har en positiv temperatur grunnet atmosfæren. Hvis vi ser bort fra atmosfæren ville temperaturen til jorda ligget rundt -18 grader celsius. Med en atmosfære derimot er temperaturen røft målt 15 grader celsius. Atmosfæren er vanskeligere enn man skulle tro! Det er derfor viktig for oss å forenkle atmosfæren slik at vi kan bruke den i modellene våre. Vi sier da:\n",
    "\n",
    "### 1. Atmosfæren har en konstant temperatur. \n",
    "\n",
    "### 2. Atmosfæren er fullstendig gjennomsiktig for stråling fra solen, all stråling går igjennom.\n",
    "\n",
    "### 3. Atmosfæren tar imot all stråling fra jorda. \n",
    "\n",
    "--------\n",
    "\n",
    "\n",
    "## Temperatur i Norge\n",
    "\n",
    "### Norge blir truffet med $229 W/m^2$ om sommeren (Juli)\n",
    "\n",
    "### Norge blir truffet med $14.5 W/m^2$ om vinteren (Januar)\n",
    "\n",
    "\n",
    "\n",
    "*Gjennomsnittet over jorkloden per 24 timer er $340 W/m^2$*\n"
   ]
  },
  {
   "cell_type": "markdown",
   "metadata": {},
   "source": [
    "# 3. Resultat"
   ]
  },
  {
   "cell_type": "markdown",
   "metadata": {},
   "source": [
    "### Oppgave 1) \n",
    "\n",
    "*Start med å lage et program som kalkulerer gjennomsnittlig varmestråling som treffer vertikalt på jordklodens atmosfære.  Mengden du får kan variere noe fra den målte solkonstanten. Prøv å forklare hvorfor denne formelen fungerer.* "
   ]
  },
  {
   "cell_type": "code",
   "execution_count": 26,
   "metadata": {},
   "outputs": [
    {
     "name": "stdout",
     "output_type": "stream",
     "text": [
      "1.7354943656730544e+17 W er gjennomsnittlig varmestråling som treffer vertikalt på jordklodens atmosfære.\n"
     ]
    }
   ],
   "source": [
    "import math\n",
    "\n",
    "#Konstanter\n",
    "radius_sol = 696000000 #m\n",
    "radius_jorda = 6371E3 #m\n",
    "distanse_solplanet = 1.496E11 #m\n",
    "solkonstant = 1361 #W/m^2\n",
    "\n",
    "#Gjennomsnittlig varmestråling som treffer\n",
    "S_innJord = solkonstant*(math.pi * radius_jorda**2) \n",
    "\n",
    "print(S_innJord,\"W\", \"er gjennomsnittlig varmestråling som treffer vertikalt på jordklodens atmosfære.\")\n",
    "\n",
    "\n"
   ]
  },
  {
   "cell_type": "markdown",
   "metadata": {},
   "source": [
    "### Oppgave 2) \n",
    "\n",
    "*Bruk energiprinsippet og Stefan-Boltzmanns lov til ̊a lage et utrykk for gjennomsnittlig temperatur på jorden. Noe av innstrålingen fra solen vil bli reflektert, og målet for refleksjonen til en flate kalles albedo. Legg til denne refleksjonsfaktoren for jordkloden og kalkuler temperaturen på jorden. Anta at temperaturen på planeten er konstant, og at planeten er en flat sirkel. Hvorfor kan vi anta at planeten er en flat sirkel? gjennomsnittlig temperatur på jordkloden er målt til ca $+15^◦C$, diskuter resultatet dit opp mot den målte temperaturen.*"
   ]
  },
  {
   "cell_type": "code",
   "execution_count": 27,
   "metadata": {},
   "outputs": [
    {
     "name": "stdout",
     "output_type": "stream",
     "text": [
      "-18.417657214453982 ◦C er gjennomsnittelig temperatur på jorden.\n"
     ]
    }
   ],
   "source": [
    "import math\n",
    "\n",
    "#Konstanter\n",
    "radius_sol = 696000000 #m\n",
    "radius_jorda = 6371E3 #m\n",
    "distanse_solplanet = 1.496E11 #m\n",
    "solkonstant = 1361 #W/m^2\n",
    "sigma = 5.67E-8\n",
    "albedo = 0.7 #Refleksjonskonstant\n",
    "\n",
    "#Energi inn\n",
    "S_innJord = solkonstant*albedo*(math.pi * radius_jorda**2)\n",
    "\n",
    "T = ((solkonstant*albedo)/(4*sigma))**(1/4)\n",
    "\n",
    "print(T - 273, \"◦C\", \"er gjennomsnittelig temperatur på jorden.\")"
   ]
  },
  {
   "cell_type": "markdown",
   "metadata": {},
   "source": [
    "### Oppgave 3)\n",
    "\n",
    "*Legg til en forenklet modell av atmosfæren som et ledd i kalkuleringen av temperaturen. Hvordan på virker det temperaturen din?*\n",
    "\n",
    "(a) *Anta to systemer hvor Energi inn = Energi ut. Det ene systemet vil være varmestråling fra solen inn i systemet og varmeståling ut av systemet fra atmosfæren til verdensrommet. Det andre systemet vil være all varmestråling som treffer jordoverflaten (pil 1 og pil 2 nedover), og varmestråling ut fra jordoverflaten.*\n",
    "\n",
    "(b) *Bruk Stefan-Boltzmanns lov for varmestråling fra jorden og atmosfæren. Lag et ligningssystem med to ukjente og løs for temperaturen ved jordoverflaten.*"
   ]
  },
  {
   "cell_type": "markdown",
   "metadata": {},
   "source": [
    "# Energi inn = Energi ut\n",
    "\n",
    "#### *De to likningene vi kan finne utfra oppgave a) er:*\n",
    "\n",
    "## $$S_{0} · albedo = σT_{atmos}^{4}$$\n",
    "## $$S_{0} · albedo + σT_{atmos}^{4} = σT_{s}^{4}$$\n",
    "\n",
    "#### *Ved å sette dette som to likninger med en ukjent $σT_{atmos}^{4}$*\n",
    "\n",
    "## $$σT_{atmos}^{4} = S_{0} · albedo$$ \n",
    "\n",
    "#### puttes inn i likning to:\n",
    "## $$(S_{0} · albedo) + (S_0 · albedo) = σT_{s}^{4}$$\n",
    "## $$2(S_{0} · albedo) = σT_{s}^{4}$$\n",
    "## $$T_{jord} = \\sqrt[4]{\\frac{2(S_{0}·albedo)}{σ}}$$\n"
   ]
  },
  {
   "cell_type": "code",
   "execution_count": 8,
   "metadata": {},
   "outputs": [
    {
     "name": "stdout",
     "output_type": "stream",
     "text": [
      "155 ◦C er temperaturen til strålingen.\n",
      "29 ◦C er gjennomsnittelig (ved jorden) temperatur til strålingen.\n"
     ]
    }
   ],
   "source": [
    "import math\n",
    "\n",
    "#Konstanter\n",
    "radius_sol = 696000000 #m\n",
    "radius_jorda = 6371E3 #m\n",
    "distanse_solplanet = 1.496E11 #m\n",
    "solkonstant = 1361 #W/m^2\n",
    "sigma = 5.67E-8\n",
    "albedo = 0.7 #Refleksjonskonstant\n",
    "\n",
    "\n",
    "T = ((2*(solkonstant*albedo)/(sigma))**(1/4))\n",
    "\n",
    "print(int(T - 273), \"◦C\", \"er temperaturen til strålingen.\")\n",
    "\n",
    "#Hvis vi setter inn S_0/4\n",
    "\n",
    "T = ((2*(solkonstant*albedo)/(4*sigma))**(1/4))\n",
    "\n",
    "print(int(T - 273), \"◦C\", \"er gjennomsnittelig (ved jorden) temperatur til strålingen.\")\n"
   ]
  },
  {
   "cell_type": "markdown",
   "metadata": {},
   "source": [
    "### Oppgave 4)\n",
    "\n",
    "*Atmosfæren tar egentlig ikke opp all energien som jordkloden sender ut, og all varmestråling fra solen går heller ikke direkte gjennom atmosfæren. Her kan det være flere måter å forandre modellen på. Prøv deg fram om du har noen ideer til  ̊a forandre atmosfæren i modellen. Grunngi hva du gjør.*\n"
   ]
  },
  {
   "cell_type": "code",
   "execution_count": 16,
   "metadata": {},
   "outputs": [
    {
     "name": "stdout",
     "output_type": "stream",
     "text": [
      "17.69697271017816\n"
     ]
    }
   ],
   "source": [
    "import math\n",
    "\n",
    "#Konstanter\n",
    "solkonstant = 1361 #W/m^2\n",
    "sigma = 5.67E-8\n",
    "albedo = 0.7 #Refleksjonskonstant\n",
    "S_0 = solkonstant*albedo\n",
    "S_J = S_0*albedo\n",
    "S_aI = S_J*0.9\n",
    "\n",
    "\n",
    "T = ((S_0 + S_J)/(4*sigma))**(1/4) \n",
    "print(T - 273)\n"
   ]
  },
  {
   "cell_type": "markdown",
   "metadata": {},
   "source": [
    "## Oppgave 5)\n",
    "\n",
    "Frem til nå har vi behandlet jordkloden som et stort punkt. Prøv nå ̊a velg et punkt på planeten, og prøv å modellere temperaturen på dette punktet gjennom et helt år. Det vil da være enklest å velge et punkt ved ekvator, men du står fritt til å prøve deg fram. Grunngi valgene du tar."
   ]
  },
  {
   "cell_type": "code",
   "execution_count": 17,
   "metadata": {},
   "outputs": [
    {
     "ename": "SyntaxError",
     "evalue": "invalid syntax (<ipython-input-17-11d9cc2114ba>, line 3)",
     "output_type": "error",
     "traceback": [
      "\u001b[1;36m  File \u001b[1;32m\"<ipython-input-17-11d9cc2114ba>\"\u001b[1;36m, line \u001b[1;32m3\u001b[0m\n\u001b[1;33m    def Temperatur(S_0, S_J)\u001b[0m\n\u001b[1;37m                            ^\u001b[0m\n\u001b[1;31mSyntaxError\u001b[0m\u001b[1;31m:\u001b[0m invalid syntax\n"
     ]
    }
   ],
   "source": [
    "from pylab import *\n",
    "#Konstanter\n",
    "solkonstant = 1361 #W/m^2\n",
    "sigma = 5.67E-8\n",
    "albedo = 0.7 #Refleksjonskonstant\n",
    "\n",
    "\n",
    "def Temperatur(S_0, S_J):\n",
    "    T = ((S_0 + S_J)/(4*sigma))**(1/4) \n",
    "    return T\n",
    "\n",
    "x = array(linspace(1,12,100))\n",
    "\n",
    "\n",
    "\n"
   ]
  },
  {
   "cell_type": "code",
   "execution_count": 19,
   "metadata": {},
   "outputs": [
    {
     "name": "stdout",
     "output_type": "stream",
     "text": [
      "5.274854622621376\n"
     ]
    }
   ],
   "source": []
  },
  {
   "cell_type": "code",
   "execution_count": null,
   "metadata": {},
   "outputs": [],
   "source": []
  }
 ],
 "metadata": {
  "kernelspec": {
   "display_name": "Python 3",
   "language": "python",
   "name": "python3"
  },
  "language_info": {
   "codemirror_mode": {
    "name": "ipython",
    "version": 3
   },
   "file_extension": ".py",
   "mimetype": "text/x-python",
   "name": "python",
   "nbconvert_exporter": "python",
   "pygments_lexer": "ipython3",
   "version": "3.8.3"
  }
 },
 "nbformat": 4,
 "nbformat_minor": 4
}
