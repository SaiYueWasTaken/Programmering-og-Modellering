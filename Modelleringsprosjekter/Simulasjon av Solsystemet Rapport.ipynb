{
 "cells": [
  {
   "cell_type": "markdown",
   "metadata": {},
   "source": [
    "# Rapport: Simulasjon av Solsystemet\n",
    "\n",
    "*Simon Sandvik Lee*\n",
    "\n",
    "*Rapport 23.05.2021*"
   ]
  },
  {
   "cell_type": "markdown",
   "metadata": {},
   "source": [
    "# 1. Hensikt\n"
   ]
  },
  {
   "cell_type": "markdown",
   "metadata": {},
   "source": [
    "Hensikten med dette prosjektet er å simulere solsystemet vårt, med hjelp av Newtons gravitasjonslov, differensiallikninger og Pygame. Dette er for å forstå bruken av matematikk og programmering innenfor fysikk."
   ]
  },
  {
   "cell_type": "markdown",
   "metadata": {},
   "source": [
    "# 2. Teori"
   ]
  },
  {
   "cell_type": "markdown",
   "metadata": {},
   "source": [
    "*Her oppsummerer jeg all kunnskap jeg kommer til å trenge senere i oppgaven.*\n",
    "\n",
    "Det å simulere solsystemet trenger mye teoretisk kunnskap. \n",
    "\n",
    "For å simulere solsystemet i Python trenger vi:\n",
    "\n",
    "## Newtons Universelle Gravitasjonslov\n",
    "\n",
    "*Newtons gravitasjonslov; Enhver masse vil bli tiltrukket av en annen masse med en kraft som er proporsjonal med kvadratet av avstanden mellom dem. *\n",
    "\n",
    "### $$ F = G·\\frac{m_{1}·m_{2}}{r^{2}} $$\n",
    "\n",
    "*hvor $F$ er kraften, $G$ er gravitasjonskonstanten, $m_1$ og $m_2$ er massene og $r^2$ er avstanden mellom massene kvadrert.*  \n",
    "\n",
    "![](http://www.oyro.no/fig/mekanikk/gravitasjonskraften.png)\n",
    "\n",
    "## Newtons Gravitasjonslov i to dimensjoner\n",
    "\n",
    "*For å gjøre situasjonen litt enklere, kan vi se på bevegelsen til planetene i to dimensjoner. I dette tilfellet ser vi på $x$ og $y$ aksen. Ved å bruke Newtons universelle gravitasjonslov kan vi se på kreftene $F_x$ og $F_y$.*\n",
    "\n",
    "### $$ F_x = - \\frac{G·m_1·m_2·x(t)}{r^3} $$\n",
    "\n",
    "### $$ F_x = - \\frac{G·m_1·m_2·x(t)}{((x(t) - x_2(t))^2 + (y(t) - y_2(t))^2)^{3/2}} $$\n",
    "\n",
    "------\n",
    "\n",
    "### $$ F_y = - \\frac{G·m_1·m_2·y(t)}{r^3} $$\n",
    "\n",
    "### $$ F_y = - \\frac{G·m_1·m_2·y(t)}{((x(t) - x_2(t))^2 + (y(t) - y_2(t))^2)^{3/2}} $$\n",
    "\n",
    "\n",
    "*Minustegnet foran formelen tilsir at det er alltid en tiltrekning, noe som er sant innenfor gravitasjonskreftene.*\n",
    "\n",
    "## Newtons Andre Lov\n",
    "\n",
    "*Summen av kreftene er lik massen til et legme, ganget med akselerasjonen*\n",
    "\n",
    "### $$ ΣF=ma $$\n",
    "\n",
    "*Kraftsummen sin retning er gitt ved retningen til akselerasjonen* \n",
    "\n",
    "## Derivasjon\n",
    "\n",
    "*Den deriverte av en funksjon sier noe om endringen til funksjonen. Man kan derfor derivere funksjoner, for å finne stigningen til grafen gitt et viss tidspunkt. Vi kan finne den deriverte både analytisk, men også numerisk.*\n",
    "\n",
    "*Ved hjelp av definisjonen av den deriverte, som er basisen til Newtons kvotient, kan vi forstå hva den deriverte vil si.*\n",
    "\n",
    "### $$f'(x) =\\lim_{Δx \\to 0}\\frac{f(x + Δx) - f(x)}{Δx}$$\n",
    "\n",
    "*Den deriverte er endringen i funksjonen gitt et tidsteg $Δx$ som går mot $0$.*\n",
    "\n",
    "\n",
    "## Differensiallikninger\n",
    "\n",
    "*Differensiallikninger er svært viktige for å sette opp modeller. Dette for å se en sammenheng mellom funksjoner og endringen av funksjonen. Difflikninger er likninger som består av den deriverte og funksjonsutrykket*\n",
    "\n",
    "*Eksempel på en difflikning innenfor fysikk:*\n",
    "\n",
    "### Newtons 2. lov: $$ΣF=ma⇔v′=\\frac{ΣF}{m}$$\n",
    "\n",
    "*Vi kan løse difflikninger på forskjellige måter, både numerisk og analytisk. Dette handler om å finne funksjonsutrykket, igjennom integrasjon eller andre numeriske metoder*\n",
    "\n",
    "## Euler Cromers Metode\n",
    "\n",
    "*Eulers Metode er en utledning av Newtons Kvotient. Vi bruker denne metoden til å løse differensiallikninger. Dette er likninger som er bygget opp av funksjoner, og kan derfor defineres med den deriverte.*\n",
    "\n",
    "*Newtons Kvotient* $f'(x) ≈ \\frac{f(x + Δx) - f(x)}{Δx}$\n",
    "\n",
    "$f'(x) ⋅ Δx  ≈ {f(x + Δx) - f(x)}$\n",
    "\n",
    "$f'(x) ⋅ Δx + f(x) ≈ f(x + Δx)$\n",
    "\n",
    "$f(x + Δx) ≈ f'(x) ⋅ Δx + f(x)$\n",
    "\n",
    "\n",
    "*Vi kan så skrive $f(x + Δx)$ som $x_1$ og $f(x)$ som $f(x_0)$*\n",
    "\n",
    "## $$f(x_1) = f(x_0) +  f'(x) ⋅ Δx $$\n",
    "\n",
    "*Med denne utledningen, kan vi finne den neste verdien til en funksjon.*\n",
    "\n",
    "OBS: Vi finner ikke noe funksjonsutrykk, men heller den numeriske verdien.\n",
    "\n",
    "\n",
    "\n"
   ]
  },
  {
   "cell_type": "markdown",
   "metadata": {},
   "source": [
    "# 3. Resultater"
   ]
  },
  {
   "cell_type": "markdown",
   "metadata": {},
   "source": [
    "## Oppgave a) \n",
    "\n",
    "Vis at akselerasjonen $a_x(t)$ og $a_y(t)$ til en planet med masse $m_1$ langs henholdsvis $x$- og $y$- aksen er:\n",
    "\n",
    "$$ a_x(t) = -\\frac{G·m_2·x(t)}{r^3} $$\n",
    "\n",
    "$$ a_y(t) = -\\frac{G·m_2·y(t)}{r^3} $$\n",
    "\n"
   ]
  },
  {
   "cell_type": "markdown",
   "metadata": {},
   "source": [
    "-----\n",
    "\n",
    "Vi kan finne akselerasjonen gitt ved dimensjonene $x$ og $y$ aksene ved å bruke Newtons gravitasjonslov gitt dimensjonene. \n",
    "\n",
    "$$ F_x = - \\frac{G·m_1·m_2·x(t)}{r^3} $$\n",
    "\n",
    "$$ F_y = - \\frac{G·m_1·m_2·y(t)}{r^3} $$\n",
    "\n",
    "Siden vi da tidligere også tok opp Newtons andre lov, kan vi skrive $F_x$ og $F_y$ lik;\n",
    "\n",
    "$$ F_x = m_1a_x $$\n",
    "\n",
    "$$ F_y = m_1a_y $$\n",
    "\n",
    "*Hvor $m_1$ er massen som blir påvirket, feks en ball på jorda.*\n",
    "\n",
    "Vi kan så sette disse likningene lik hverandre og får;\n",
    "\n",
    "*For $x$-aksen:*\n",
    "\n",
    "$$ m_1a_x = - \\frac{G·m_1·m_2·x(t)}{r^3} $$\n",
    "\n",
    "$$ a_x = - \\frac{G·m_2·x(t)}{r^3} $$\n",
    "\n",
    "*Skriver $a_x$ som egentlig er en funksjon av tiden $t$*\n",
    "\n",
    "\n",
    "### $$ a_x(t) = - \\frac{G·m_2·x(t)}{r^3} $$\n",
    "\n",
    "*For $y$-aksen:*\n",
    "\n",
    "$$ m_1a_y = - \\frac{G·m_1·m_2·y(t)}{r^3} $$\n",
    "\n",
    "$$ a_y = - \\frac{G·m_2·y(t)}{r^3} $$\n",
    "\n",
    "*Skriver $a_y$ som egentlig er en funksjon av tiden $t$*\n",
    "\n",
    "### $$ a_y(t) = - \\frac{G·m_2·y(t)}{r^3} $$\n"
   ]
  },
  {
   "cell_type": "markdown",
   "metadata": {},
   "source": [
    "## Oppgave b) \n",
    "\n",
    "Forklar hvorfor vi får at disse likningene må løses for å finne posisjonene $x(t)$ og $y(t)$:\n",
    "\n",
    "$$ x'(t) = v_x(t) $$\n",
    "\n",
    "$$ y'(t) = v_y(t) $$\n",
    "\n",
    "$$ v_x'(t) = - \\frac{G·m_2·x(t)}{r^3} $$\n",
    "\n",
    "$$ v_y'(t) = - \\frac{G·m_2·y(t)}{r^3} $$\n",
    "\n",
    "der $v_x$ og $v_y$ er farten til planeten med masse $m_2$."
   ]
  },
  {
   "cell_type": "markdown",
   "metadata": {},
   "source": [
    "-----\n",
    "Vi må løse disse likningene for å finne posisjonene, dette er fordi vi må regne via Newtons gravitasjonslov. \n",
    "\n",
    "$$ v_x'(t) = - \\frac{G·m_2·x(t)}{r^3} $$\n",
    "\n",
    "$$ v_y'(t) = - \\frac{G·m_2·y(t)}{r^3} $$\n",
    "\n",
    "Er egentlig bare; \n",
    "\n",
    "$$ a_x(t) = - \\frac{G·m_2·x(t)}{r^3} $$\n",
    "\n",
    "$$ a_y(t) = - \\frac{G·m_2·y(t)}{r^3} $$\n",
    "\n",
    "Vi kan si dette fordi den deriverte av farten er akselerasjonen. \n",
    "\n",
    "Derfor når vi bruker en formel som da utrykker seg ved endringen av farten, og posisjonen $x(t)$ eller $y(t)$ kan vi også igjen si;\n",
    "\n",
    "$$ x'(t) = v_x(t) $$\n",
    "\n",
    "$$ y'(t) = v_y(t) $$\n",
    "\n",
    "fordi her utrykker vi farten som den deriverte av posisjonen. Posisjonene er jo det vi ønsker å komme fram til. Vi kan så bruke feks Eulers metode til å få numeriske løsninger, som vi igjen kan bruke til å finne posisjonene vi er ute etter. \n"
   ]
  },
  {
   "cell_type": "code",
   "execution_count": null,
   "metadata": {},
   "outputs": [],
   "source": []
  }
 ],
 "metadata": {
  "kernelspec": {
   "display_name": "Python 3",
   "language": "python",
   "name": "python3"
  },
  "language_info": {
   "codemirror_mode": {
    "name": "ipython",
    "version": 3
   },
   "file_extension": ".py",
   "mimetype": "text/x-python",
   "name": "python",
   "nbconvert_exporter": "python",
   "pygments_lexer": "ipython3",
   "version": "3.8.3"
  }
 },
 "nbformat": 4,
 "nbformat_minor": 4
}
