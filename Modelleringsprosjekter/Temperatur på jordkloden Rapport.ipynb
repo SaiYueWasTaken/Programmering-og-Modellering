{
 "cells": [
  {
   "cell_type": "markdown",
   "metadata": {},
   "source": [
    "# Rapport: Temperatur på jordkloden\n",
    "\n",
    "*Simon Sandvik Lee*\n",
    "\n",
    "*Rapport 17.03.2021*"
   ]
  },
  {
   "cell_type": "markdown",
   "metadata": {},
   "source": [
    "# 1. Hensikt"
   ]
  },
  {
   "cell_type": "markdown",
   "metadata": {},
   "source": [
    "Hensikten med dette prosjektet er å utforske og lage ulike modeller for å vise temperaturen på jordkloden, dette er for å få et inblikk i klimamodellering.\n"
   ]
  },
  {
   "cell_type": "markdown",
   "metadata": {},
   "source": [
    "# 2. Teori\n"
   ]
  },
  {
   "cell_type": "markdown",
   "metadata": {},
   "source": [
    "Det er mange ulike teoretiske kunnskaper man trenger for å kunne lage enkle klimamodeller.\n",
    "For å lage en modell som beskriver temperaturen til jordkloden trenger vi:\n",
    "\n",
    "## Stefan-Boltzmanns lov\n",
    "\n",
    "Varmestråling blir utgitt av alle *svarte legemer*. Varmestråling er elektromagnetisk stråling og fører energi til eller fra et system. Varmestrålingen ut fra en gjenstand kan man regne ut gitt areal og temperatur; Loven sier derfor: \n",
    "\n",
    "## $$ S = σT^4 $$\n",
    "\n",
    "*Utstrålt effekt per areal (utstrålingstettheten) fra en gjenstand, vokser med fjerde potens av den absolutte temperaturn til gjenstandens overflate.*\n",
    "\n",
    "## $$σ$$\n",
    "\n",
    "\n",
    "*er Stefan-Boltzmanns konstant og er lik $5,6703·10^{-8} W/(m^2·K^4)$*\n",
    "\n",
    "## $$T$$\n",
    "\n",
    "*er Temperaturen målt i Kelvin.*\n",
    "\n",
    "\n",
    "## Kalkulering av gjennomsnittlig elektromagnetisk stråling\n",
    "\n",
    "Solkonstanten er målt gjennomsnittlig elektromagnetisk stråling fra solen som treffet vertikalt på jordklodens atmosfære. \n",
    "\n",
    "*Denne konstanten er målt til $1361 W/m^2$.*\n",
    "\n",
    "Ved å bruke gjennomsnittlig elektromagnetisk stråling som treffer en planet og distansen mellom solen og planeten i solsystemet. \n",
    "\n",
    "## $$S = \\frac{radius^{2}_{sol}}{distanse^{2}_{sol-planet}}·varmestråling_{sol}$$\n",
    "\n",
    "*hvor $S$ er gitt ved den gjennomsnittlige strålingen som treffet planeten i $W/m^2$*.\n",
    "\n",
    "\n",
    "## Energiprinsippet\n",
    "\n",
    "Energi kan ikke forsvinne eller skapes, bare omformes fra en form til en annen. Dette vil si at energien er konstant. Planeter er lukkede systemer og vi tilfører varmestråling fra verdensrommet. Planeten sender så ut en egen varmestråling ut til verdensrommet. \n",
    "\n",
    "Vi får da tre muligheter:\n",
    "\n",
    "### 1. Planeten varmes opp over tid: $ S_{inn} > S_{ut}$ \n",
    "\n",
    "### 2. Planeten blir kaldere over tid: $ S_{inn} < S_{ut}$ \n",
    "\n",
    "### 3. Planeten har konstant temperatur:  $ S_{inn} = S_{ut}$ \n",
    "\n",
    "\n",
    "\n",
    "## Forenklet atmosfære\n",
    "\n",
    "Jordkloden har en positiv temperatur grunnet atmosfæren. Hvis vi ser bort fra atmosfæren ville temperaturen til jorda ligget rundt -18 grader celsius. Med en atmosfære derimot er temperaturen røft målt 15 grader celsius. Atmosfæren er vanskeligere enn man skulle tro! Det er derfor viktig for oss å forenkle atmosfæren slik at vi kan bruke den i modellene våre. Vi sier da:\n",
    "\n",
    "### 1. Atmosfæren har en konstant temperatur. \n",
    "\n",
    "### 2. Atmosfæren er fullstendig gjennomsiktig for stråling fra solen, all stråling går igjennom.\n",
    "\n",
    "### 3. Atmosfæren tar imot all stråling fra jorda. \n"
   ]
  },
  {
   "cell_type": "markdown",
   "metadata": {},
   "source": [
    "# 3. Resultat"
   ]
  },
  {
   "cell_type": "markdown",
   "metadata": {},
   "source": [
    "### Oppgave 1) \n",
    "\n",
    "*Start  med  ̊a  lage  et  program  som  kalkulerer  gjennomsnittlig  varmestr ̊aling  som  treffer  vertikalt  p ̊ajordklodens atmosfære.  Mengden du f ̊ar kan variere noe fra den m ̊alte solkonstanten.  Prøv  ̊a forklarhvorfor denne formelen fungerer.  For  ̊a f ̊a tips kan det være nyttig  ̊a se p ̊a forklaringen her - ”Solarradiation in space.”*"
   ]
  },
  {
   "cell_type": "code",
   "execution_count": 7,
   "metadata": {},
   "outputs": [
    {
     "name": "stdout",
     "output_type": "stream",
     "text": [
      "29487 W/m^2 er gjennomsnittlig varmestråling som treffer vertikalt på jordklodens atmosfære.\n"
     ]
    }
   ],
   "source": [
    "#Konstanter\n",
    "radius_sol = 696340000 #km\n",
    "distanse_solplanet = 1.496E8 #km\n",
    "solkonstant = 1361 #W/m^2\n",
    "\n",
    "#Gjennomsnittlig varmestråling som treffer\n",
    "S = (radius_sol**2)/(distanse_solplanet**2)*solkonstant\n",
    "\n",
    "print(int(S),\"W/m^2\", \"er gjennomsnittlig varmestråling som treffer vertikalt på jordklodens atmosfære.\")\n",
    "\n",
    "\n"
   ]
  },
  {
   "cell_type": "markdown",
   "metadata": {},
   "source": [
    "### Oppgave 2) \n",
    "\n",
    "*Bruk energiprinsippet og Stefan-Boltzmanns lov til  ̊a lage et utrykk for gjennomsnittlig temperaturp ̊a jorden.  Noe av innstr ̊alingen fra solen vil bli reflektert, og m ̊alet for refleksjonen til en flate kallesalbedo.  Legg til denne refleksjonsfaktoren for jordkloden og kalkuler temperaturen p ̊a jorden.  Anta attemperaturen p ̊a planeten er konstant, og at planeten er en flat sirkel.Hvorfor kan vi anta at planeten er en flat sirkel? gjennomsnittlig temperatur p ̊a jordkloden er m ̊alt til ca $+15^◦C$, diskuter resultatet dit opp mot denm ̊alte temperaturen.*"
   ]
  },
  {
   "cell_type": "code",
   "execution_count": null,
   "metadata": {},
   "outputs": [],
   "source": []
  }
 ],
 "metadata": {
  "kernelspec": {
   "display_name": "Python 3",
   "language": "python",
   "name": "python3"
  },
  "language_info": {
   "codemirror_mode": {
    "name": "ipython",
    "version": 3
   },
   "file_extension": ".py",
   "mimetype": "text/x-python",
   "name": "python",
   "nbconvert_exporter": "python",
   "pygments_lexer": "ipython3",
   "version": "3.8.3"
  }
 },
 "nbformat": 4,
 "nbformat_minor": 4
}
