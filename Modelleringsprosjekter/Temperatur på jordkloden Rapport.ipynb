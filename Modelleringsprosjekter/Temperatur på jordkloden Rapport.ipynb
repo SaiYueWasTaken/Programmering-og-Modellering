{
 "cells": [
  {
   "cell_type": "markdown",
   "metadata": {},
   "source": [
    "# Rapport: Temperatur på jordkloden\n",
    "\n",
    "*Simon Sandvik Lee*\n",
    "\n",
    "*Rapport 17.03.2021*"
   ]
  },
  {
   "cell_type": "markdown",
   "metadata": {},
   "source": [
    "# 1. Hensikt"
   ]
  },
  {
   "cell_type": "markdown",
   "metadata": {},
   "source": [
    "Hensikten med dette prosjektet er å utforske og lage ulike modeller for å vise temperaturen på jordkloden, dette er for å få et inblikk i klimamodellering.\n"
   ]
  },
  {
   "cell_type": "markdown",
   "metadata": {},
   "source": [
    "# 2. Teori\n"
   ]
  },
  {
   "cell_type": "markdown",
   "metadata": {},
   "source": [
    "Det er mange ulike teoretiske kunnskaper man trenger for å kunne lage enkle klimamodeller. \n",
    "\n",
    "*Her oppsummerer jeg all teorien som jeg kommer til å trenge videre i oppgavene senere.*\n",
    "\n",
    "For å lage en modell som beskriver temperaturen til jordkloden trenger vi:\n",
    "\n",
    "## Stefan-Boltzmanns lov\n",
    "\n",
    "Varmestråling blir utgitt av alle *svarte legemer*. Varmestråling er elektromagnetisk stråling og fører energi til eller fra et system. Varmestrålingen ut fra en gjenstand kan man regne ut gitt areal og temperatur; Loven sier derfor: \n",
    "\n",
    "## $$ S = σT^4 $$\n",
    "\n",
    "*Utstrålt effekt per areal (utstrålingstettheten) fra en gjenstand, vokser med fjerde potens av den absolutte temperaturn til gjenstandens overflate.*\n",
    "\n",
    "## $$σ (sigma) $$\n",
    "\n",
    "\n",
    "*er Stefan-Boltzmanns konstant og er lik $5,6703·10^{-8} W/(m^2·K^4)$*\n",
    "\n",
    "## $$T (Temperatur)$$\n",
    "\n",
    "*er Temperaturen målt i Kelvin.*\n",
    "\n",
    "\n",
    "## Gjennomsnittlig elektromagnetisk stråling som treffer jordas atmosfære\n",
    "\n",
    "Solkonstanten er målt gjennomsnittlig elektromagnetisk stråling fra solen som treffet vertikalt på jordklodens atmosfære. \n",
    "\n",
    "*Denne strålingen som treffer jordklodens atmosfære er målt til $1361 W/m^2$.*\n",
    "\n",
    "Ved å bruke gjennomsnittlig elektromagnetisk stråling som treffer en planet og distansen mellom solen og planeten i solsystemet. \n",
    "\n",
    "## $$S = \\frac{radius^{2}_{sol}}{distanse^{2}_{sol-planet}}·varmestråling_{sol}$$\n",
    "\n",
    "*hvor $S$ er gitt ved den gjennomsnittlige strålingen som treffet planeten i $W/m^2$*.\n",
    "\n",
    "\n",
    "## Forenkling av stråling på jordkloden fra sola (Energi inn)\n",
    "\n",
    "Hvis man ser på hvordan strålingen fra sola treffer jorda, kan vi se at strålingen bare treffer en side. Dette vil si at den gjennomsnittlige strålingen som treffer egentlig bare er en sirkel. \n",
    "\n",
    "*Vi får da bruk for arealet av en sirkel gitt ved:*\n",
    "\n",
    "## $$A = {\\displaystyle \\pi}r^{2}$$\n",
    "\n",
    "*Ved dette, kan vi finne ut hvor mye stråling som treffer jorda (PS: Ikke all stråling går igjennom, og vi trenger derfor en konstant albedo)*\n",
    "\n",
    "## $$K_s · alebdo · {\\displaystyle \\pi}r^{2}_{jorda}$$\n",
    "\n",
    "*Dette er da all energi inn til jordkloden, hvor $K_s$ er solkonstanten, $albedo$ er en gitt konstant av hvor mye stråling som faktisk treffer jordoverflaten, og ${\\displaystyle \\pi}r^{2}$ er hvor mye overflate som blir truffet.*\n",
    "\n",
    "\n",
    "## Reflektert stråling fra jordkloden (Energi ut) \n",
    "\n",
    "Vi vet nå via Stefan-Boltzmanns Lov at jorden også kommer til å sende ut en stråling. Gitt ved at stråling er W/m^2 kan vi bruke Arealformelen for en kule ganget med Stefan Boltzmann til å finne et utrykk som utrykker hvor mye stråling som blir reflektert av jorda. \n",
    "\n",
    "## $$ σT^{4} · 4{\\displaystyle \\pi}r^{2}_{jorda} $$\n",
    "\n",
    "\n",
    "## Energiprinsippet\n",
    "\n",
    "Energi kan ikke forsvinne eller skapes, bare omformes fra en form til en annen. Dette vil si at energien er konstant. Planeter er lukkede systemer og vi tilfører varmestråling fra verdensrommet. Planeten sender så ut en egen varmestråling ut til verdensrommet. \n",
    "\n",
    "Vi får da tre muligheter:\n",
    "\n",
    "### 1. Planeten varmes opp over tid: $ S_{inn} > S_{ut}$ \n",
    "\n",
    "### 2. Planeten blir kaldere over tid: $ S_{inn} < S_{ut}$ \n",
    "\n",
    "### 3. Planeten har konstant temperatur:  $ S_{inn} = S_{ut}$ \n",
    "\n",
    "\n",
    "\n",
    "## Forenklet atmosfære\n",
    "\n",
    "Jordkloden har en positiv temperatur grunnet atmosfæren. Hvis vi ser bort fra atmosfæren ville temperaturen til jorda ligget rundt -18 grader celsius. Med en atmosfære derimot er temperaturen røft målt 15 grader celsius. Atmosfæren er vanskeligere enn man skulle tro! Det er derfor viktig for oss å forenkle atmosfæren slik at vi kan bruke den i modellene våre. Vi sier da:\n",
    "\n",
    "### 1. Atmosfæren har en konstant temperatur. \n",
    "\n",
    "### 2. Atmosfæren er fullstendig gjennomsiktig for stråling fra solen, all stråling går igjennom.\n",
    "\n",
    "### 3. Atmosfæren tar imot all stråling fra jorda. \n",
    "\n",
    "--------\n",
    "\n",
    "\n",
    "## Temperatur i Norge\n",
    "\n",
    "### Norge blir truffet med $229 W/m^2$ om sommeren (Juli)\n",
    "\n",
    "### Norge blir truffet med $14.5 W/m^2$ om vinteren (Januar)\n",
    "\n",
    "\n",
    "\n",
    "*Gjennomsnittet over jordkloden per 24 timer er $340 W/m^2$*\n",
    "\n",
    "\n",
    "*Informasjon fra* https://static1.squarespace.com/static/597512eb579fb3d3de0207aa/t/59806508be65948aa727a108/1501586729727/Bruk+av+solenergi+i+Norge.pdf\n",
    "\n",
    "## Harmoniske svinginger\n",
    "\n",
    "## $$ f(x) = Asin(cx + φ) + d $$\n",
    "\n",
    "## $$ A = \\frac{f_{topp} + f_{min}}{2} $$\n",
    "\n",
    "## $$ d = \\frac{f_{topp} - f_{min}}{2} $$\n"
   ]
  },
  {
   "cell_type": "markdown",
   "metadata": {},
   "source": [
    "# 3. Resultater"
   ]
  },
  {
   "cell_type": "markdown",
   "metadata": {},
   "source": [
    "### Oppgave 1) \n",
    "\n",
    "*Start med å lage et program som kalkulerer gjennomsnittlig varmestråling som treffer vertikalt på jordklodens atmosfære.  Mengden du får kan variere noe fra den målte solkonstanten. Prøv å forklare hvorfor denne formelen fungerer.* "
   ]
  },
  {
   "cell_type": "code",
   "execution_count": 29,
   "metadata": {},
   "outputs": [
    {
     "name": "stdout",
     "output_type": "stream",
     "text": [
      "Solkonstanten er: 1367.8815791898394 W/m^2\n",
      "1367.8815791898394 W/m^2 er gjennomsnittlig varmestråling som treffer vertikalt på jordklodens atmosfære.\n"
     ]
    }
   ],
   "source": [
    "import math\n",
    "\n",
    "#Konstanter\n",
    "radius_sol = 696000000 #m\n",
    "radius_jorda = 6371E3 #m\n",
    "distanse_solplanet = 1.496E11 #m\n",
    "Temperatur_sol = 5778 #K\n",
    "sigma = 5.67E-8\n",
    "\n",
    "#Varmestråling sol\n",
    "S = sigma*Temperatur_sol**4\n",
    "\n",
    "#Solkonstanten \n",
    "solkonstant = ((radius_sol**2)/(distanse_solplanet**2))*S\n",
    "print(\"Solkonstanten er:\", solkonstant, \"W/m^2\")\n",
    "\n",
    "print(solkonstant,\"W/m^2\", \"er gjennomsnittlig varmestråling som treffer vertikalt på jordklodens atmosfære.\")\n",
    "\n",
    "\n"
   ]
  },
  {
   "cell_type": "markdown",
   "metadata": {},
   "source": [
    "### Oppgave 2) \n",
    "\n",
    "*Bruk energiprinsippet og Stefan-Boltzmanns lov til ̊a lage et utrykk for gjennomsnittlig temperatur på jorden. Noe av innstrålingen fra solen vil bli reflektert, og målet for refleksjonen til en flate kalles albedo. Legg til denne refleksjonsfaktoren for jordkloden og kalkuler temperaturen på jorden. Anta at temperaturen på planeten er konstant, og at planeten er en flat sirkel. Hvorfor kan vi anta at planeten er en flat sirkel? gjennomsnittlig temperatur på jordkloden er målt til ca $+15^◦C$, diskuter resultatet dit opp mot den målte temperaturen.*"
   ]
  },
  {
   "cell_type": "code",
   "execution_count": 30,
   "metadata": {},
   "outputs": [
    {
     "name": "stdout",
     "output_type": "stream",
     "text": [
      "1.2148460559711381e+17 W er hvor mye energi som kommer inn\n",
      "-18.417657214453982 ◦C er gjennomsnittelig temperatur på jorden.\n"
     ]
    }
   ],
   "source": [
    "import math\n",
    "\n",
    "#Konstanter\n",
    "radius_jorda = 6371E3 #m\n",
    "solkonstant = 1361 #W/m^2\n",
    "sigma = 5.67E-8\n",
    "albedo = 0.7 #Refleksjonskonstant \n",
    "\n",
    "#Energi inn\n",
    "S_innJord = solkonstant*albedo*(math.pi * radius_jorda**2)\n",
    "print(S_innJord, \"W er hvor mye energi som kommer inn.\")\n",
    "\n",
    "#Temperatur \n",
    "T = ((solkonstant*albedo)/(4*sigma))**(1/4) #Kelvin\n",
    "\n",
    "print(T - 273, \"◦C\", \"er gjennomsnittelig temperatur på jorden.\")"
   ]
  },
  {
   "cell_type": "markdown",
   "metadata": {},
   "source": [
    "### Oppgave 3)\n",
    "\n",
    "*Legg til en forenklet modell av atmosfæren som et ledd i kalkuleringen av temperaturen. Hvordan på virker det temperaturen din?*\n",
    "\n",
    "(a) *Anta to systemer hvor Energi inn = Energi ut. Det ene systemet vil være varmestråling fra solen inn i systemet og varmeståling ut av systemet fra atmosfæren til verdensrommet. Det andre systemet vil være all varmestråling som treffer jordoverflaten (pil 1 og pil 2 nedover), og varmestråling ut fra jordoverflaten.*\n",
    "\n",
    "(b) *Bruk Stefan-Boltzmanns lov for varmestråling fra jorden og atmosfæren. Lag et ligningssystem med to ukjente og løs for temperaturen ved jordoverflaten.*"
   ]
  },
  {
   "cell_type": "markdown",
   "metadata": {},
   "source": [
    "# Energi inn = Energi ut\n",
    "\n",
    "#### *De to likningene vi kan finne utfra oppgave a) er:*\n",
    "\n",
    "## $$S_{sk} · albedo = σT_{atmos}^{4}$$\n",
    "## $$S_{sk} · albedo + σT_{atmos}^{4} = σT_{s}^{4}$$\n",
    "\n",
    "#### *Ved å sette dette som to likninger med en ukjent $σT_{atmos}^{4}$*\n",
    "\n",
    "## $$σT_{atmos}^{4} = S_{sk} · albedo$$ \n",
    "\n",
    "#### puttes inn i likning to:\n",
    "## $$(S_{sk} · albedo) + (S_sk · albedo) = σT_{s}^{4}$$\n",
    "## $$2(S_{sk} · albedo) = σT_{s}^{4}$$\n",
    "## $$T_{s} = \\sqrt[4]{\\frac{2(S_{sk}·albedo)}{σ}}$$\n"
   ]
  },
  {
   "cell_type": "code",
   "execution_count": 32,
   "metadata": {},
   "outputs": [
    {
     "name": "stdout",
     "output_type": "stream",
     "text": [
      "155 ◦C er temperaturen til strålingen.\n",
      "29 ◦C er gjennomsnittelig (ved jorden) temperatur til strålingen.\n"
     ]
    }
   ],
   "source": [
    "import math\n",
    "\n",
    "#Konstanter\n",
    "solkonstant = 1361 #W/m^2\n",
    "sigma = 5.67E-8\n",
    "albedo = 0.7 #Refleksjonskonstant\n",
    "\n",
    "\n",
    "T = ((2*(solkonstant*albedo)/(sigma))**(1/4))\n",
    "\n",
    "print(int(T - 273), \"◦C\", \"er temperaturen til strålingen.\")\n",
    "\n",
    "#Hvis vi setter inn S_0/4\n",
    "\n",
    "T = ((2*(solkonstant*albedo)/(4*sigma))**(1/4))\n",
    "\n",
    "print(int(T - 273), \"◦C\", \"er gjennomsnittelig (ved jorden) temperatur til strålingen.\")\n"
   ]
  },
  {
   "cell_type": "markdown",
   "metadata": {},
   "source": [
    "### Oppgave 4)\n",
    "\n",
    "*Atmosfæren tar egentlig ikke opp all energien som jordkloden sender ut, og all varmestråling fra solen går heller ikke direkte gjennom atmosfæren. Her kan det være flere måter å forandre modellen på. Prøv deg fram om du har noen ideer til  ̊a forandre atmosfæren i modellen. Grunngi hva du gjør.*\n"
   ]
  },
  {
   "cell_type": "code",
   "execution_count": 35,
   "metadata": {},
   "outputs": [
    {
     "name": "stdout",
     "output_type": "stream",
     "text": [
      "17.69697271017816 ◦C er gjennomsnittstemperaturen på jorda med en atmosfære.\n"
     ]
    }
   ],
   "source": [
    "import math\n",
    "\n",
    "#Konstanter\n",
    "solkonstant = 1361 #W/m^2\n",
    "sigma = 5.67E-8\n",
    "albedo = 0.7 #Refleksjonskonstant\n",
    "S_0 = solkonstant*albedo\n",
    "S_J = S_0*albedo\n",
    "\n",
    "\n",
    "T = ((S_0 + S_J)/(4*sigma))**(1/4) \n",
    "print(T - 273, \"◦C er gjennomsnittstemperaturen på jorda med en atmosfære.\")\n"
   ]
  },
  {
   "cell_type": "markdown",
   "metadata": {},
   "source": [
    "### Oppgave 5)\n",
    "\n",
    "*Frem til nå har vi behandlet jordkloden som et stort punkt. Prøv nå ̊a velg et punkt på planeten, og prøv å modellere temperaturen på dette punktet gjennom et helt år. Det vil da være enklest å velge et punkt ved ekvator, men du står fritt til å prøve deg fram. Grunngi valgene du tar.*"
   ]
  },
  {
   "cell_type": "code",
   "execution_count": 34,
   "metadata": {},
   "outputs": [
    {
     "data": {
      "image/png": "[encoded data removed]",
      "text/plain": [
       "<Figure size 432x288 with 1 Axes>"
      ]
     },
     "metadata": {
      "needs_background": "light"
     },
     "output_type": "display_data"
    },
    {
     "data": {
      "image/png": "[encoded data removed]",
      "text/plain": [
       "<Figure size 432x288 with 1 Axes>"
      ]
     },
     "metadata": {
      "needs_background": "light"
     },
     "output_type": "display_data"
    }
   ],
   "source": [
    "from pylab import *\n",
    "\n",
    "#Konstanter\n",
    "solkonstant = 1361 #W/m^2\n",
    "sigma = 5.67E-8\n",
    "albedo = 0.7 #Refleksjonskonstant\n",
    "S_topp = 229 #W/m^2\n",
    "S_bunn = 14.5 #W/m^2\n",
    "A = (S_topp - S_bunn)/2\n",
    "d = (S_topp + S_bunn)/2\n",
    "phi = 1.5\n",
    "c = 1/1.91\n",
    "\n",
    "\n",
    "#Sinus funksjon som representerer endring av solinnstråing i Norge\n",
    "def f(x):\n",
    "    return A*sin(x*c + phi*pi) + d\n",
    "\n",
    "x = linspace(0, 12, 100) #Punkter for x\n",
    "\n",
    "plot(x, f(x))\n",
    "xlabel(\"Tid (måneder)\")\n",
    "ylabel(\"Solinnstråling (W/m^2)\")\n",
    "grid()\n",
    "show()\n",
    "\n",
    "#Definerer en funksjon ved solinnstråling \n",
    "def Temperatur(S_0, S_J):\n",
    "    T = ((S_0 + S_J)/(sigma))**(1/4) \n",
    "    return T\n",
    "\n",
    "S_inn = f(x)\n",
    "S_A = S_inn\n",
    "S_B = S_A*0.7\n",
    "\n",
    "plot(x, Temperatur(S_A, S_B) - 273)\n",
    "xlabel(\"Tid (måneder)\")\n",
    "ylabel(\"Temperatur (Celsius)\")\n",
    "grid()\n",
    "show()\n"
   ]
  },
  {
   "cell_type": "markdown",
   "metadata": {},
   "source": [
    "# 4. Diskusjon "
   ]
  },
  {
   "cell_type": "markdown",
   "metadata": {},
   "source": [
    "## Oppgave 1) \n",
    "I denne oppgaven skulle vi lage et program som kalkulerte gjennomsnittlig varmestråling som traff vertikalt på jordklodens atmosfære. \n",
    "\n",
    "For å gjøre oppgaven brukte jeg først Stefan Boltzmanns lov, og regnet ut hvor mye stråling solen sender ut. Teorien bak hvor mye solstråling som faktisk treffer jorda tok jeg opp tidligere. Formelen kan begrunnes med at all stråling som går ut av sola kan ses på i forhold til hvor mye stråling som går tapt utover en størrelse fra sola til jorda. $pi*r^2$ * stråling. Hvis vi da setter et forhold med sirkelarealet til sola/sirkelarealet til sol-jord får vi et forhold som viser oss hvor mye stråling som når fram til jorda. Dette ender da opp med å være solkonstanten.  \n",
    "\n",
    "\n",
    "## Oppgave 2)\n",
    "I denne oppgaven skulle vi lage en modell for gjennomsnittlig temperatur på jorda, med en ny konstant albedo. \n",
    "\n",
    "For å forklare hvorfor vi kan bruke en sirkel som arealet til jordkloden kan vi titte på teoridelen igjen. Strålingen som treffer jorda kan sees over en sirkeloverflate. Dette er grunnet at jorda bare stråler en vei på jorda. Jorda er en kule, men hvis man ser fra solas perspektiv ser man en sirkeloverflate. Denne sirkeloverflaten blir da arealet som strålingen treffer, og vi antar derfor at jorda en en flat sirkel. \n",
    "\n",
    "Temperaturen finner vi ved å igjen ta opp teorien. Hvis vi ser for oss at Energi Inn = Energi Ut (samme som oppgave 3 senere), kan vi komme oss fram til en formel for Temperaturen. \n",
    "\n",
    "## $$ K_s · alebdo · {\\displaystyle \\pi}r^{2}_{jorda} = σT^{4} · 4{\\displaystyle \\pi}r^{2}_{jorda} $$\n",
    "\n",
    "## $$ \\frac{K_s · alebdo}{4 · σ} = T^{4} $$\n",
    "\n",
    "## $$ T = \\sqrt[4]{\\frac{K_s · albedo}{4 · σ}}$$\n",
    "\n",
    "Resultatet mitt ble $-18$ grader Celsius (Dette etter at jeg omformet Kelvin til Celsius med K - 273 = C). Dette er lavt iforhold til $+15$ grader som er gjennomsnittstemperaturen til jordkloden. Dette er grunnet at temperaturen jeg regnet ut er bare gitt ved en enkel modell som ser på noe av solstrålingen. Temperaturen på jordkloden er satt av flere parametere. Hvis man feks. legger til en atmosfære som \"sender tilbake\" solstrålingen vil temperaturen som vi regner ut være annerledes. \n",
    "\n",
    "## Oppgave 3)\n",
    "I denne oppgaven skulle jeg sette opp likninger slik at jeg kan lage en modell som forenkler atmosfæren, dette med Energi inn = Energi Ut i tankene.\n",
    "\n",
    "Ved å sette opp likningene fant jeg etterhvert ut en formel for temperaturen til jorda, men med en simplifisert atmosfære. Alt dette er satt opp som oppgave 2, hvor jeg tenker at Energi inn = Energi Ut. Hvordan jeg kom fram til formelen er vist i oppgaven. $S_{sk}$ er solkonstanten, og $T_s$ er strålingens temperatur. Temperaturen som jeg fant ble da en ekstremt høy temperatur. Dette er grunnet at som sagt er dette strålingens temperatur over hele jordkloden, men siden jordkloden (som tidligere sagt) ikke får solstråling fra alle sider på kula, så kan man dele kula på 4. \n",
    "\n",
    "Hvis man deler temperaturen på 4, får vi en temperatur som er mer realistisk, men fortsatt høy.\n",
    "\n",
    "## Oppgave 4)\n",
    "I denne oppgaven skulle jeg fortsette og utvikle modellen. \n",
    "\n",
    "Jeg hadde mange ideer. Den ideen jeg ble mest fornøyd med var å bruke det jeg fant i oppgave 3). Jeg tenkte meg da fram til at hvis alle delene av modellen reflekterer kan vi finne noe som likner den gjennomsnittlige jordtemperaturen. Jeg kom da fram til at hvis jeg har to strålinger, altså fra solen og jorda, kan jeg bruke refleksjonskonstanten albedo en gang til. Dette gjør da at jorda og atmosfæren reflekterer noe tilbake, men noe blir også borte (da sendt ut til verdensrommet). Dette gir oss en modell som er veldig forenklet, basert på det vi fant i oppgave 3) og viser oss en mer troverdig temperatur.\n",
    "\n",
    "## Oppgave 5) \n",
    "I denne oppgaven skal man velge et punkt på jordkloden, og så finne temperaturen utifra det. \n",
    "\n",
    "Jeg valgte Norge som mitt standpunkt. Jeg hadde mange tanker om hvordan jeg ville gå fram i denne oppgaven, men jeg kom tilslutt fram at jeg ville bruke de tidligere modellene til å lage en ny modell for Norge. Det er som sagt mange måter å sette opp en klimamodell her; hvor mange parametere skal man bruke? skal man tenke på jordkloden og hvordan den går rundt solen i et år? Ved å søke på nett fant jeg mye informasjon om hvor mye solinnstråling som treffer Norge i Januar og Juli (de to toppunktene, info i teoridelen). \n",
    "\n",
    "Ved denne informasjonen ville jeg sette opp en enkel modell som viser temperaturen ettersom hvor mye solstråling som treffer Norge. For å gjøre dette ville jeg ta i bruk harmoniske svinginger. Siden dokumentet bare tok opp toppunktet og bunnpunktet for solinnstrålingen i Norge, måtte jeg finne flere punkter. Ved en sinusfunksjon ser man på en mer naturlig endring, og jeg tenkte det kunne passe inn her. Jeg brukte så formelen og satt opp en sinusfunksjon. Dette gjorde jeg med toppunktene og bunnpunktene, og ved å teste meg fram til en forskyvning og periode. Jeg satt så opp en plot, og viste hvordan solinnstrålingen endret seg i Norge utifra at x = 0 er Januar og x = 6 er Juli.\n",
    "\n",
    "Nå hadde jeg alle punktene jeg trengte og kunne bruke den tidligere modellen til å finne temperaturen over ett år. Jeg satt alt opp, og plottet en ny graf.\n",
    "\n",
    "Det er mye man kan si om modellen jeg har funnet. Det er en veldig forenklet modell av temperaturen i Norge som bare tar til seg at det er solinnstrålingen i seg selv som endrer temperaturen. Det er flere parametere som endrer temperaturen i Norge, feks Golfstrømmen. Min modell tar heller ikke hensyn til endring av innstråling over tid. Solinnstrålingen som treffer Norge kan endres, det er ikke slik at den alltid vil være en perfekt sinusfunksjon. Endring av hvor mye solinnstråling som kommer inn, og hvor mye som reflekteres er ikke konstant. Modellen jeg lagde viser at temperaturen kommer til å vokse når det er mer solinnstråling, og synke når det er mindre solinnstråling. \n"
   ]
  },
  {
   "cell_type": "markdown",
   "metadata": {},
   "source": [
    "# 5. Konklusjon\n",
    "\n",
    "Jeg har da modellert flere ulike klimamodeller med et fokus på temperatur. Modellene er laget ved å vurdere hvor mange parametre som trengs. Modellene blir altså mer og mer avansert. \n",
    "\n",
    "Klimamodeller er vanskelig å gjøre enkel. Det er mange parametre man kan legge til for å gjøre en klimamodell mer eksakt. En klimamodell er bare en \"framstilling\" av hva som kan skje utrifra eksakte parametre, naturen er derimot ikke eksakt. Dette så vi når jeg prøvde å finne temperaturen over et år i Norge. "
   ]
  },
  {
   "cell_type": "code",
   "execution_count": null,
   "metadata": {},
   "outputs": [],
   "source": []
  }
 ],
 "metadata": {
  "kernelspec": {
   "display_name": "Python 3",
   "language": "python",
   "name": "python3"
  },
  "language_info": {
   "codemirror_mode": {
    "name": "ipython",
    "version": 3
   },
   "file_extension": ".py",
   "mimetype": "text/x-python",
   "name": "python",
   "nbconvert_exporter": "python",
   "pygments_lexer": "ipython3",
   "version": "3.8.3"
  }
 },
 "nbformat": 4,
 "nbformat_minor": 4
}
