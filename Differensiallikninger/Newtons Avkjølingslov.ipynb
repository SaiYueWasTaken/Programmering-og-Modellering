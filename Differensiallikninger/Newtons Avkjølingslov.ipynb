{
 "cells": [
  {
   "cell_type": "markdown",
   "metadata": {},
   "source": [
    "# Newtons Avkjølingslov"
   ]
  },
  {
   "cell_type": "markdown",
   "metadata": {},
   "source": [
    "Foranding i temperatur skal være proposjonal til differansen mellom temperaturen til objektet og temperaturen til omgivelsene. "
   ]
  },
  {
   "cell_type": "markdown",
   "metadata": {},
   "source": [
    "$$T'(t) = -k(T - T_O)$$\n",
    "\n",
    "\n",
    "$$T'(t) = -kT + kT_O$$\n",
    "\n",
    "\n"
   ]
  },
  {
   "cell_type": "code",
   "execution_count": 26,
   "metadata": {},
   "outputs": [
    {
     "data": {
      "image/png": "[encoded data removed]",
      "text/plain": [
       "<Figure size 432x288 with 1 Axes>"
      ]
     },
     "metadata": {
      "needs_background": "light"
     },
     "output_type": "display_data"
    }
   ],
   "source": [
    "from pylab import *\n",
    "\n",
    "a = 0 #Starsverdi\n",
    "b = 100 #Sluttsverdi\n",
    "dx = 1E-5 #Endring\n",
    "N = int((b-a)/dx) #Antall Intervaller\n",
    "\n",
    "\n",
    "x = zeros(N+1)\n",
    "y = zeros(N+1)\n",
    "y[0] = 30 #Initial betingelse, temperaturen i starten\n",
    "\n",
    "def Tder(t, T, T_O, k):\n",
    "    return -k*(T-T_O)\n",
    "\n",
    "for n in range(N):\n",
    "    y[n+1] = y[n] + Tder(x[n], y[n], 21, 0.5)*dx\n",
    "    x[n+1] = x[n] + dx\n",
    "\n",
    "plot(x,y)\n",
    "grid()\n",
    "show()\n"
   ]
  },
  {
   "cell_type": "code",
   "execution_count": null,
   "metadata": {},
   "outputs": [],
   "source": []
  }
 ],
 "metadata": {
  "kernelspec": {
   "display_name": "Python 3",
   "language": "python",
   "name": "python3"
  },
  "language_info": {
   "codemirror_mode": {
    "name": "ipython",
    "version": 3
   },
   "file_extension": ".py",
   "mimetype": "text/x-python",
   "name": "python",
   "nbconvert_exporter": "python",
   "pygments_lexer": "ipython3",
   "version": "3.8.3"
  }
 },
 "nbformat": 4,
 "nbformat_minor": 4
}
