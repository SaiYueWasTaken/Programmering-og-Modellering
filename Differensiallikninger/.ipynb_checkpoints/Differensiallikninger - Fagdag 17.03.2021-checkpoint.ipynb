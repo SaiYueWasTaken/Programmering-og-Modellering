{
 "cells": [
  {
   "cell_type": "markdown",
   "metadata": {},
   "source": [
    "# Differensiallikninger "
   ]
  },
  {
   "cell_type": "markdown",
   "metadata": {},
   "source": [
    "Differensiallikninger er likninger som vi møter på når vi skal modellere en endring. \n",
    "\n",
    "Noen eksempler på difflikninger er:\n",
    "\n",
    "--------------------------------------\n",
    "\n",
    "Newtons 2. lov: $$ΣF=ma⇔v′=\\frac{ΣF}{m}$$\n",
    "\n",
    "Populasjonsdynamikk: $$B′(t)=k⋅B(t)$$ \n",
    "\n",
    "$$B′(t)=a⋅B(t)⋅(1−B(t)⋅b)$$\n",
    "\n",
    "Smittemodeller: $$I′(t)=a⋅I(t)⋅S(t)$$\n",
    "\n",
    "--------------------------------------"
   ]
  },
  {
   "cell_type": "markdown",
   "metadata": {},
   "source": [
    "Disse tre likningene er differensiallikninger, fordi den beskrives av en derivert av en funksjon (endringen) slik at vi kan finne funksjonen selv. I Newtons 2. lov kan vi omformulere F = ma til endringen av farten (akselerasjonen), v' = F/m. Populasjonsvekst er skrevet på formen: y' = k*y, som er en generell formel for difflikning når vi ser på endring av den opprinnelige funksjonen. Smittemodellen har noe i likhet til dette. "
   ]
  },
  {
   "cell_type": "markdown",
   "metadata": {},
   "source": [
    "# Eulers metode for å løse differensiallikninger"
   ]
  },
  {
   "cell_type": "markdown",
   "metadata": {},
   "source": [
    "Utledning av Eulers metode fra den numeriske tilnærmingen til den deriverte (Newtons kvotient/framoverdifferansen)"
   ]
  },
  {
   "cell_type": "markdown",
   "metadata": {},
   "source": [
    "--------\n",
    "\n",
    "$$f'(x) ≈ \\frac{f(x + Δx) - f(x)}{Δx}$$\n",
    "\n",
    "$$f'(x) ⋅ Δx  ≈ {f(x + Δx) - f(x)}$$\n",
    "\n",
    "$$f'(x) ⋅ Δx + f(x) ≈ f(x + Δx)$$\n",
    "\n",
    "$$f(x + Δx) ≈ f'(x) ⋅ Δx + f(x)$$\n",
    "\n",
    "Vi kan så skrive sette $f(x + Δx)$ som $x_1$ og $f(x)$ som $f(x_0)$ :\n",
    "\n",
    "$$f(x_1) ≈ f(x_0) +  f'(x) ⋅ Δx $$\n",
    "\n",
    "-------"
   ]
  },
  {
   "cell_type": "code",
   "execution_count": 2,
   "metadata": {},
   "outputs": [],
   "source": [
    "a = 0 #Starsverdi\n",
    "b = 5 #Sluttsverdi\n",
    "dx = 1E-5 #Endring\n",
    "N = int((b-a)/dx) #Antall Intervaller\n",
    "y0 = 1 #Initialbetingelse"
   ]
  },
  {
   "cell_type": "markdown",
   "metadata": {},
   "source": [
    "$a$ er startsverdien $x$\n",
    "\n",
    "$b$ er sluttsverdien $x$\n",
    "\n",
    "$dx$ er $Δ𝑥$, altså endringen i $x$\n",
    "\n",
    "$N$ er hvor mange Intervaller vi har. \n",
    "\n",
    "$y(0)$ er Initialbetingelsen (starten på funksjonen), altså når $x = 0$, så er $y = 1$. "
   ]
  },
  {
   "cell_type": "code",
   "execution_count": 14,
   "metadata": {},
   "outputs": [
    {
     "data": {
      "image/png": "[encoded data removed]",
      "text/plain": [
       "<Figure size 432x288 with 1 Axes>"
      ]
     },
     "metadata": {
      "needs_background": "light"
     },
     "output_type": "display_data"
    }
   ],
   "source": [
    "from pylab import *\n",
    "\n",
    "a = 0 #Starsverdi\n",
    "b = 5 #Sluttsverdi\n",
    "dx = 1E-5 #Endring\n",
    "N = int((b-a)/dx) #Antall Intervaller\n",
    "y0 = 1 #Initialbetingelse\n",
    "\n",
    "x = zeros(N+1)\n",
    "y = zeros(N+1)\n",
    "\n",
    "#Funksjonen f'(x)\n",
    "def fder(x, y):\n",
    "    return 1\n",
    "\n",
    "#Eulers\n",
    "for n in range(N):\n",
    "    y[n+1] = y[n] + fder(x[n], y[n])*dx\n",
    "    x[n+1] = x[n] + dx\n",
    "\n",
    "plot(x,y)\n",
    "grid()\n",
    "show()\n"
   ]
  },
  {
   "cell_type": "markdown",
   "metadata": {},
   "source": [
    "Grunnen til at det må være $N+1$ i zeros funksjonen til x og y, er at man alltid teller fra 0. Derfor mangler vi et tall, og må plusse en. "
   ]
  },
  {
   "cell_type": "markdown",
   "metadata": {},
   "source": [
    "# Oppgave - Eulers Metode"
   ]
  },
  {
   "cell_type": "markdown",
   "metadata": {},
   "source": [
    "Bruk funksjonen $y′=y+x$ når du løser oppgavene nedenfor.\n",
    "\n",
    "a) Lag programmet ovenfor uten funksjoner. Hvor må differensiallikningen være i programmet nå?\n",
    "\n",
    "b) Lag programmet ovenfor med lister istedenfor arrayer. Hva syns du er enklest?\n",
    "\n",
    "c) Plott løsninger for fem ulike initialbetingelser i samme plott. Hva sier dette oss om løsningen til en differensiallikning?\n"
   ]
  },
  {
   "cell_type": "code",
   "execution_count": 22,
   "metadata": {},
   "outputs": [
    {
     "data": {
      "image/png": "[encoded data removed]",
      "text/plain": [
       "<Figure size 432x288 with 1 Axes>"
      ]
     },
     "metadata": {
      "needs_background": "light"
     },
     "output_type": "display_data"
    }
   ],
   "source": [
    "#Oppgave A)\n",
    "\n",
    "from pylab import *\n",
    "\n",
    "a = 0 #Starsverdi\n",
    "b = 5 #Sluttsverdi\n",
    "dx = 1E-5 #Endring\n",
    "N = int((b-a)/dx) #Antall Intervaller\n",
    "\n",
    "x = zeros(N+1)\n",
    "y = zeros(N+1)\n",
    "\n",
    "for n in range(N):\n",
    "    y[n+1] = y[n] + (y[n] + x[n])*dx #Vi putter difflikningen inn her. \n",
    "    x[n+1] = x[n] + dx\n",
    "\n",
    "plot(x,y)\n",
    "grid()\n",
    "show()\n",
    "\n"
   ]
  },
  {
   "cell_type": "code",
   "execution_count": 39,
   "metadata": {},
   "outputs": [],
   "source": [
    "#Oppgave B)\n",
    "\n",
    "\n"
   ]
  },
  {
   "cell_type": "markdown",
   "metadata": {},
   "source": [
    "# Newtons Avkjølingslov"
   ]
  },
  {
   "cell_type": "markdown",
   "metadata": {},
   "source": [
    "Foranding i temperatur skal være proposjonal til differansen mellom temperaturen til objektet og temperaturen til omgivelsene. "
   ]
  },
  {
   "cell_type": "markdown",
   "metadata": {},
   "source": [
    "$$T'(t) = -k(T - T_O)$$\n",
    "\n",
    "\n",
    "$$T'(t) = -kT + kT_O$$\n"
   ]
  },
  {
   "cell_type": "code",
   "execution_count": 30,
   "metadata": {},
   "outputs": [
    {
     "data": {
      "image/png": "[encoded data removed]",
      "text/plain": [
       "<Figure size 432x288 with 1 Axes>"
      ]
     },
     "metadata": {
      "needs_background": "light"
     },
     "output_type": "display_data"
    }
   ],
   "source": [
    "from pylab import *\n",
    "\n",
    "a = 0 #Starsverdi\n",
    "b = 10 #Sluttsverdi\n",
    "dt = 1E-5 #Endring\n",
    "N = int((b-a)/dt) #Antall Intervaller\n",
    "\n",
    "T_O = 21\n",
    "k = 0.05\n",
    "\n",
    "t = zeros(N+1)\n",
    "T = zeros(N+1)\n",
    "T[0] = 75 #Initial betingelse, temperaturen i starten\n",
    "\n",
    "def Tder(t, T, T_O, k):\n",
    "    return -k*(T-T_O)\n",
    "\n",
    "for n in range(N):\n",
    "    T[n+1] = T[n] + Tder(t[n], T[n], T_O, k)*dt\n",
    "    t[n+1] = t[n] + dt\n",
    "\n",
    "plot(t,T)\n",
    "grid()\n",
    "show()\n"
   ]
  },
  {
   "cell_type": "code",
   "execution_count": null,
   "metadata": {},
   "outputs": [],
   "source": [
    "from pylab import * \n",
    "\n",
    "while t > "
   ]
  }
 ],
 "metadata": {
  "kernelspec": {
   "display_name": "Python 3",
   "language": "python",
   "name": "python3"
  },
  "language_info": {
   "codemirror_mode": {
    "name": "ipython",
    "version": 3
   },
   "file_extension": ".py",
   "mimetype": "text/x-python",
   "name": "python",
   "nbconvert_exporter": "python",
   "pygments_lexer": "ipython3",
   "version": "3.8.3"
  }
 },
 "nbformat": 4,
 "nbformat_minor": 4
}
